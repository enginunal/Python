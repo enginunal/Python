{
 "cells": [
  {
   "cell_type": "markdown",
   "metadata": {},
   "source": [
    "### ISO Alpha-2, Alpha-3, and Numeric Country Codes"
   ]
  },
  {
   "cell_type": "code",
   "execution_count": 1,
   "metadata": {
    "collapsed": false
   },
   "outputs": [],
   "source": [
    "import pandas as pd"
   ]
  },
  {
   "cell_type": "markdown",
   "metadata": {},
   "source": [
    "Read ISO country code list from web page."
   ]
  },
  {
   "cell_type": "code",
   "execution_count": 2,
   "metadata": {
    "collapsed": true
   },
   "outputs": [],
   "source": [
    "df = pd.read_html('http://www.nationsonline.org/oneworld/country_code_list.htm')[2]"
   ]
  },
  {
   "cell_type": "code",
   "execution_count": 3,
   "metadata": {
    "collapsed": false,
    "scrolled": true
   },
   "outputs": [
    {
     "data": {
      "text/html": [
       "<div>\n",
       "<table border=\"1\" class=\"dataframe\">\n",
       "  <thead>\n",
       "    <tr style=\"text-align: right;\">\n",
       "      <th></th>\n",
       "      <th>0</th>\n",
       "      <th>1</th>\n",
       "      <th>2</th>\n",
       "      <th>3</th>\n",
       "      <th>4</th>\n",
       "    </tr>\n",
       "  </thead>\n",
       "  <tbody>\n",
       "    <tr>\n",
       "      <th>0</th>\n",
       "      <td>NaN</td>\n",
       "      <td>Country or Area Name</td>\n",
       "      <td>ISO \"ALPHA-2 Code</td>\n",
       "      <td>ISO ALPHA-3 Code</td>\n",
       "      <td>ISO Numeric Code  UN M49 Numerical Code</td>\n",
       "    </tr>\n",
       "    <tr>\n",
       "      <th>1</th>\n",
       "      <td>NaN</td>\n",
       "      <td>NaN</td>\n",
       "      <td>NaN</td>\n",
       "      <td>NaN</td>\n",
       "      <td>NaN</td>\n",
       "    </tr>\n",
       "    <tr>\n",
       "      <th>2</th>\n",
       "      <td>NaN</td>\n",
       "      <td>Afghanistan</td>\n",
       "      <td>AF</td>\n",
       "      <td>AFG</td>\n",
       "      <td>004</td>\n",
       "    </tr>\n",
       "    <tr>\n",
       "      <th>3</th>\n",
       "      <td>NaN</td>\n",
       "      <td>Aland Islands</td>\n",
       "      <td>AX</td>\n",
       "      <td>ALA</td>\n",
       "      <td>248</td>\n",
       "    </tr>\n",
       "    <tr>\n",
       "      <th>4</th>\n",
       "      <td>NaN</td>\n",
       "      <td>Albania</td>\n",
       "      <td>AL</td>\n",
       "      <td>ALB</td>\n",
       "      <td>008</td>\n",
       "    </tr>\n",
       "  </tbody>\n",
       "</table>\n",
       "</div>"
      ],
      "text/plain": [
       "    0                     1                  2                 3  \\\n",
       "0 NaN  Country or Area Name  ISO \"ALPHA-2 Code  ISO ALPHA-3 Code   \n",
       "1 NaN                   NaN                NaN               NaN   \n",
       "2 NaN           Afghanistan                 AF               AFG   \n",
       "3 NaN         Aland Islands                 AX               ALA   \n",
       "4 NaN               Albania                 AL               ALB   \n",
       "\n",
       "                                         4  \n",
       "0  ISO Numeric Code  UN M49 Numerical Code  \n",
       "1                                      NaN  \n",
       "2                                      004  \n",
       "3                                      248  \n",
       "4                                      008  "
      ]
     },
     "execution_count": 3,
     "metadata": {},
     "output_type": "execute_result"
    }
   ],
   "source": [
    "df.head()"
   ]
  },
  {
   "cell_type": "markdown",
   "metadata": {},
   "source": [
    "Delete unnecessary rows and cols"
   ]
  },
  {
   "cell_type": "code",
   "execution_count": 4,
   "metadata": {
    "collapsed": false
   },
   "outputs": [],
   "source": [
    "df.drop(0, axis=1, inplace=True)"
   ]
  },
  {
   "cell_type": "code",
   "execution_count": 5,
   "metadata": {
    "collapsed": false
   },
   "outputs": [],
   "source": [
    "#df.columns = df.iloc[0,:] it is too long, change the compact names\n",
    "df.columns = ['Country', 'Alpha2', 'Alpha3', 'Numeric']"
   ]
  },
  {
   "cell_type": "code",
   "execution_count": 6,
   "metadata": {
    "collapsed": false
   },
   "outputs": [],
   "source": [
    "df.drop([0,1], axis=0, inplace=True)"
   ]
  },
  {
   "cell_type": "code",
   "execution_count": 7,
   "metadata": {
    "collapsed": false,
    "scrolled": true
   },
   "outputs": [
    {
     "data": {
      "text/html": [
       "<div>\n",
       "<table border=\"1\" class=\"dataframe\">\n",
       "  <thead>\n",
       "    <tr style=\"text-align: right;\">\n",
       "      <th></th>\n",
       "      <th>Country</th>\n",
       "      <th>Alpha2</th>\n",
       "      <th>Alpha3</th>\n",
       "      <th>Numeric</th>\n",
       "    </tr>\n",
       "  </thead>\n",
       "  <tbody>\n",
       "    <tr>\n",
       "      <th>2</th>\n",
       "      <td>Afghanistan</td>\n",
       "      <td>AF</td>\n",
       "      <td>AFG</td>\n",
       "      <td>004</td>\n",
       "    </tr>\n",
       "    <tr>\n",
       "      <th>3</th>\n",
       "      <td>Aland Islands</td>\n",
       "      <td>AX</td>\n",
       "      <td>ALA</td>\n",
       "      <td>248</td>\n",
       "    </tr>\n",
       "    <tr>\n",
       "      <th>4</th>\n",
       "      <td>Albania</td>\n",
       "      <td>AL</td>\n",
       "      <td>ALB</td>\n",
       "      <td>008</td>\n",
       "    </tr>\n",
       "    <tr>\n",
       "      <th>5</th>\n",
       "      <td>Algeria</td>\n",
       "      <td>DZ</td>\n",
       "      <td>DZA</td>\n",
       "      <td>012</td>\n",
       "    </tr>\n",
       "    <tr>\n",
       "      <th>6</th>\n",
       "      <td>American Samoa</td>\n",
       "      <td>AS</td>\n",
       "      <td>ASM</td>\n",
       "      <td>016</td>\n",
       "    </tr>\n",
       "  </tbody>\n",
       "</table>\n",
       "</div>"
      ],
      "text/plain": [
       "          Country Alpha2 Alpha3 Numeric\n",
       "2     Afghanistan     AF    AFG     004\n",
       "3   Aland Islands     AX    ALA     248\n",
       "4         Albania     AL    ALB     008\n",
       "5         Algeria     DZ    DZA     012\n",
       "6  American Samoa     AS    ASM     016"
      ]
     },
     "execution_count": 7,
     "metadata": {},
     "output_type": "execute_result"
    }
   ],
   "source": [
    "df.head()"
   ]
  },
  {
   "cell_type": "markdown",
   "metadata": {},
   "source": [
    "Reset the index of DataFrame df"
   ]
  },
  {
   "cell_type": "code",
   "execution_count": 8,
   "metadata": {
    "collapsed": false
   },
   "outputs": [],
   "source": [
    "df.reset_index(drop=True, inplace=True)"
   ]
  },
  {
   "cell_type": "code",
   "execution_count": 9,
   "metadata": {
    "collapsed": false
   },
   "outputs": [
    {
     "data": {
      "text/html": [
       "<div>\n",
       "<table border=\"1\" class=\"dataframe\">\n",
       "  <thead>\n",
       "    <tr style=\"text-align: right;\">\n",
       "      <th></th>\n",
       "      <th>Country</th>\n",
       "      <th>Alpha2</th>\n",
       "      <th>Alpha3</th>\n",
       "      <th>Numeric</th>\n",
       "    </tr>\n",
       "  </thead>\n",
       "  <tbody>\n",
       "    <tr>\n",
       "      <th>0</th>\n",
       "      <td>Afghanistan</td>\n",
       "      <td>AF</td>\n",
       "      <td>AFG</td>\n",
       "      <td>004</td>\n",
       "    </tr>\n",
       "    <tr>\n",
       "      <th>1</th>\n",
       "      <td>Aland Islands</td>\n",
       "      <td>AX</td>\n",
       "      <td>ALA</td>\n",
       "      <td>248</td>\n",
       "    </tr>\n",
       "    <tr>\n",
       "      <th>2</th>\n",
       "      <td>Albania</td>\n",
       "      <td>AL</td>\n",
       "      <td>ALB</td>\n",
       "      <td>008</td>\n",
       "    </tr>\n",
       "    <tr>\n",
       "      <th>3</th>\n",
       "      <td>Algeria</td>\n",
       "      <td>DZ</td>\n",
       "      <td>DZA</td>\n",
       "      <td>012</td>\n",
       "    </tr>\n",
       "    <tr>\n",
       "      <th>4</th>\n",
       "      <td>American Samoa</td>\n",
       "      <td>AS</td>\n",
       "      <td>ASM</td>\n",
       "      <td>016</td>\n",
       "    </tr>\n",
       "  </tbody>\n",
       "</table>\n",
       "</div>"
      ],
      "text/plain": [
       "          Country Alpha2 Alpha3 Numeric\n",
       "0     Afghanistan     AF    AFG     004\n",
       "1   Aland Islands     AX    ALA     248\n",
       "2         Albania     AL    ALB     008\n",
       "3         Algeria     DZ    DZA     012\n",
       "4  American Samoa     AS    ASM     016"
      ]
     },
     "execution_count": 9,
     "metadata": {},
     "output_type": "execute_result"
    }
   ],
   "source": [
    "df.head()"
   ]
  },
  {
   "cell_type": "code",
   "execution_count": 10,
   "metadata": {
    "collapsed": false
   },
   "outputs": [
    {
     "data": {
      "text/html": [
       "<div>\n",
       "<table border=\"1\" class=\"dataframe\">\n",
       "  <thead>\n",
       "    <tr style=\"text-align: right;\">\n",
       "      <th></th>\n",
       "      <th>Country</th>\n",
       "      <th>Alpha2</th>\n",
       "      <th>Alpha3</th>\n",
       "      <th>Numeric</th>\n",
       "    </tr>\n",
       "  </thead>\n",
       "  <tbody>\n",
       "    <tr>\n",
       "      <th>count</th>\n",
       "      <td>247</td>\n",
       "      <td>246</td>\n",
       "      <td>247</td>\n",
       "      <td>247</td>\n",
       "    </tr>\n",
       "    <tr>\n",
       "      <th>unique</th>\n",
       "      <td>247</td>\n",
       "      <td>246</td>\n",
       "      <td>247</td>\n",
       "      <td>247</td>\n",
       "    </tr>\n",
       "    <tr>\n",
       "      <th>top</th>\n",
       "      <td>Botswana</td>\n",
       "      <td>GW</td>\n",
       "      <td>GRC</td>\n",
       "      <td>440</td>\n",
       "    </tr>\n",
       "    <tr>\n",
       "      <th>freq</th>\n",
       "      <td>1</td>\n",
       "      <td>1</td>\n",
       "      <td>1</td>\n",
       "      <td>1</td>\n",
       "    </tr>\n",
       "  </tbody>\n",
       "</table>\n",
       "</div>"
      ],
      "text/plain": [
       "         Country Alpha2 Alpha3 Numeric\n",
       "count        247    246    247     247\n",
       "unique       247    246    247     247\n",
       "top     Botswana     GW    GRC     440\n",
       "freq           1      1      1       1"
      ]
     },
     "execution_count": 10,
     "metadata": {},
     "output_type": "execute_result"
    }
   ],
   "source": [
    "df.describe()"
   ]
  },
  {
   "cell_type": "markdown",
   "metadata": {},
   "source": [
    "Find empty cell"
   ]
  },
  {
   "cell_type": "code",
   "execution_count": 11,
   "metadata": {
    "collapsed": false
   },
   "outputs": [
    {
     "data": {
      "text/html": [
       "<div>\n",
       "<table border=\"1\" class=\"dataframe\">\n",
       "  <thead>\n",
       "    <tr style=\"text-align: right;\">\n",
       "      <th></th>\n",
       "      <th>Country</th>\n",
       "      <th>Alpha2</th>\n",
       "      <th>Alpha3</th>\n",
       "      <th>Numeric</th>\n",
       "    </tr>\n",
       "  </thead>\n",
       "  <tbody>\n",
       "    <tr>\n",
       "      <th>152</th>\n",
       "      <td>Namibia</td>\n",
       "      <td>NaN</td>\n",
       "      <td>NAM</td>\n",
       "      <td>516</td>\n",
       "    </tr>\n",
       "  </tbody>\n",
       "</table>\n",
       "</div>"
      ],
      "text/plain": [
       "     Country Alpha2 Alpha3 Numeric\n",
       "152  Namibia    NaN    NAM     516"
      ]
     },
     "execution_count": 11,
     "metadata": {},
     "output_type": "execute_result"
    }
   ],
   "source": [
    "df[df.Alpha2.isnull() != False]"
   ]
  },
  {
   "cell_type": "markdown",
   "metadata": {},
   "source": [
    "Find the row where the country code value is TR"
   ]
  },
  {
   "cell_type": "code",
   "execution_count": 12,
   "metadata": {
    "collapsed": false
   },
   "outputs": [
    {
     "data": {
      "text/html": [
       "<div>\n",
       "<table border=\"1\" class=\"dataframe\">\n",
       "  <thead>\n",
       "    <tr style=\"text-align: right;\">\n",
       "      <th></th>\n",
       "      <th>Country</th>\n",
       "      <th>Alpha2</th>\n",
       "      <th>Alpha3</th>\n",
       "      <th>Numeric</th>\n",
       "    </tr>\n",
       "  </thead>\n",
       "  <tbody>\n",
       "    <tr>\n",
       "      <th>226</th>\n",
       "      <td>Turkey</td>\n",
       "      <td>TR</td>\n",
       "      <td>TUR</td>\n",
       "      <td>792</td>\n",
       "    </tr>\n",
       "  </tbody>\n",
       "</table>\n",
       "</div>"
      ],
      "text/plain": [
       "    Country Alpha2 Alpha3 Numeric\n",
       "226  Turkey     TR    TUR     792"
      ]
     },
     "execution_count": 12,
     "metadata": {},
     "output_type": "execute_result"
    }
   ],
   "source": [
    "df[df['Alpha2'] == 'TR']"
   ]
  },
  {
   "cell_type": "markdown",
   "metadata": {},
   "source": [
    "That's it."
   ]
  },
  {
   "cell_type": "markdown",
   "metadata": {},
   "source": [
    "Full Table is:"
   ]
  },
  {
   "cell_type": "code",
   "execution_count": 13,
   "metadata": {
    "collapsed": false,
    "scrolled": false
   },
   "outputs": [
    {
     "name": "stdout",
     "output_type": "stream",
     "text": [
      "                                          Country Alpha2 Alpha3 Numeric\n",
      "0                                     Afghanistan     AF    AFG     004\n",
      "1                                   Aland Islands     AX    ALA     248\n",
      "2                                         Albania     AL    ALB     008\n",
      "3                                         Algeria     DZ    DZA     012\n",
      "4                                  American Samoa     AS    ASM     016\n",
      "5                                         Andorra     AD    AND     020\n",
      "6                                          Angola     AO    AGO     024\n",
      "7                                        Anguilla     AI    AIA     660\n",
      "8                                      Antarctica     AQ    ATA     010\n",
      "9                             Antigua and Barbuda     AG    ATG     028\n",
      "10                                      Argentina     AR    ARG     032\n",
      "11                                        Armenia     AM    ARM     051\n",
      "12                                          Aruba     AW    ABW     533\n",
      "13                                      Australia     AU    AUS     036\n",
      "14                                        Austria     AT    AUT     040\n",
      "15                                     Azerbaijan     AZ    AZE     031\n",
      "16                                        Bahamas     BS    BHS     044\n",
      "17                                        Bahrain     BH    BHR     048\n",
      "18                                     Bangladesh     BD    BGD     050\n",
      "19                                       Barbados     BB    BRB     052\n",
      "20                                        Belarus     BY    BLR     112\n",
      "21                                        Belgium     BE    BEL     056\n",
      "22                                         Belize     BZ    BLZ     084\n",
      "23                                          Benin     BJ    BEN     204\n",
      "24                                        Bermuda     BM    BMU     060\n",
      "25                                         Bhutan     BT    BTN     064\n",
      "26                                        Bolivia     BO    BOL     068\n",
      "27                         Bosnia and Herzegovina     BA    BIH     070\n",
      "28                                       Botswana     BW    BWA     072\n",
      "29                                  Bouvet Island     BV    BVT     074\n",
      "30                                         Brazil     BR    BRA     076\n",
      "31                         British Virgin Islands     VG    VGB     092\n",
      "32                 British Indian Ocean Territory     IO    IOT     086\n",
      "33                              Brunei Darussalam     BN    BRN     096\n",
      "34                                       Bulgaria     BG    BGR     100\n",
      "35                                   Burkina Faso     BF    BFA     854\n",
      "36                                        Burundi     BI    BDI     108\n",
      "37                                       Cambodia     KH    KHM     116\n",
      "38                                       Cameroon     CM    CMR     120\n",
      "39                                         Canada     CA    CAN     124\n",
      "40                                     Cape Verde     CV    CPV     132\n",
      "41                                 Cayman Islands     KY    CYM     136\n",
      "42                       Central African Republic     CF    CAF     140\n",
      "43                                           Chad     TD    TCD     148\n",
      "44                                          Chile     CL    CHL     152\n",
      "45                                          China     CN    CHN     156\n",
      "46                           Hong Kong, SAR China     HK    HKG     344\n",
      "47                               Macao, SAR China     MO    MAC     446\n",
      "48                               Christmas Island     CX    CXR     162\n",
      "49                        Cocos (Keeling) Islands     CC    CCK     166\n",
      "50                                       Colombia     CO    COL     170\n",
      "51                                        Comoros     KM    COM     174\n",
      "52                            Congo (Brazzaville)     CG    COG     178\n",
      "53                              Congo, (Kinshasa)     CD    COD     180\n",
      "54                                   Cook Islands     CK    COK     184\n",
      "55                                     Costa Rica     CR    CRI     188\n",
      "56                                  Côte d'Ivoire     CI    CIV     384\n",
      "57                                        Croatia     HR    HRV     191\n",
      "58                                           Cuba     CU    CUB     192\n",
      "59                                         Cyprus     CY    CYP     196\n",
      "60                                 Czech Republic     CZ    CZE     203\n",
      "61                                        Denmark     DK    DNK     208\n",
      "62                                       Djibouti     DJ    DJI     262\n",
      "63                                       Dominica     DM    DMA     212\n",
      "64                             Dominican Republic     DO    DOM     214\n",
      "65                                        Ecuador     EC    ECU     218\n",
      "66                                          Egypt     EG    EGY     818\n",
      "67                                    El Salvador     SV    SLV     222\n",
      "68                              Equatorial Guinea     GQ    GNQ     226\n",
      "69                                        Eritrea     ER    ERI     232\n",
      "70                                        Estonia     EE    EST     233\n",
      "71                                       Ethiopia     ET    ETH     231\n",
      "72                    Falkland Islands (Malvinas)     FK    FLK     238\n",
      "73                                  Faroe Islands     FO    FRO     234\n",
      "74                                           Fiji     FJ    FJI     242\n",
      "75                                        Finland     FI    FIN     246\n",
      "76                                         France     FR    FRA     250\n",
      "77                                  French Guiana     GF    GUF     254\n",
      "78                               French Polynesia     PF    PYF     258\n",
      "79                    French Southern Territories     TF    ATF     260\n",
      "80                                          Gabon     GA    GAB     266\n",
      "81                                         Gambia     GM    GMB     270\n",
      "82                                        Georgia     GE    GEO     268\n",
      "83                                        Germany     DE    DEU     276\n",
      "84                                          Ghana     GH    GHA     288\n",
      "85                                      Gibraltar     GI    GIB     292\n",
      "86                                         Greece     GR    GRC     300\n",
      "87                                      Greenland     GL    GRL     304\n",
      "88                                        Grenada     GD    GRD     308\n",
      "89                                     Guadeloupe     GP    GLP     312\n",
      "90                                           Guam     GU    GUM     316\n",
      "91                                      Guatemala     GT    GTM     320\n",
      "92                                       Guernsey     GG    GGY     831\n",
      "93                                         Guinea     GN    GIN     324\n",
      "94                                  Guinea-Bissau     GW    GNB     624\n",
      "95                                         Guyana     GY    GUY     328\n",
      "96                                          Haiti     HT    HTI     332\n",
      "97                     Heard and Mcdonald Islands     HM    HMD     334\n",
      "98                  Holy See (Vatican City State)     VA    VAT     336\n",
      "99                                       Honduras     HN    HND     340\n",
      "100                                       Hungary     HU    HUN     348\n",
      "101                                       Iceland     IS    ISL     352\n",
      "102                                         India     IN    IND     356\n",
      "103                                     Indonesia     ID    IDN     360\n",
      "104                     Iran, Islamic Republic of     IR    IRN     364\n",
      "105                                          Iraq     IQ    IRQ     368\n",
      "106                                       Ireland     IE    IRL     372\n",
      "107                                   Isle of Man     IM    IMN     833\n",
      "108                                        Israel     IL    ISR     376\n",
      "109                                         Italy     IT    ITA     380\n",
      "110                                       Jamaica     JM    JAM     388\n",
      "111                                         Japan     JP    JPN     392\n",
      "112                                        Jersey     JE    JEY     832\n",
      "113                                        Jordan     JO    JOR     400\n",
      "114                                    Kazakhstan     KZ    KAZ     398\n",
      "115                                         Kenya     KE    KEN     404\n",
      "116                                      Kiribati     KI    KIR     296\n",
      "117                                 Korea (North)     KP    PRK     408\n",
      "118                                 Korea (South)     KR    KOR     410\n",
      "119                                        Kuwait     KW    KWT     414\n",
      "120                                    Kyrgyzstan     KG    KGZ     417\n",
      "121                                       Lao PDR     LA    LAO     418\n",
      "122                                        Latvia     LV    LVA     428\n",
      "123                                       Lebanon     LB    LBN     422\n",
      "124                                       Lesotho     LS    LSO     426\n",
      "125                                       Liberia     LR    LBR     430\n",
      "126                                         Libya     LY    LBY     434\n",
      "127                                 Liechtenstein     LI    LIE     438\n",
      "128                                     Lithuania     LT    LTU     440\n",
      "129                                    Luxembourg     LU    LUX     442\n",
      "130                        Macedonia, Republic of     MK    MKD     807\n",
      "131                                    Madagascar     MG    MDG     450\n",
      "132                                        Malawi     MW    MWI     454\n",
      "133                                      Malaysia     MY    MYS     458\n",
      "134                                      Maldives     MV    MDV     462\n",
      "135                                          Mali     ML    MLI     466\n",
      "136                                         Malta     MT    MLT     470\n",
      "137                              Marshall Islands     MH    MHL     584\n",
      "138                                    Martinique     MQ    MTQ     474\n",
      "139                                    Mauritania     MR    MRT     478\n",
      "140                                     Mauritius     MU    MUS     480\n",
      "141                                       Mayotte     YT    MYT     175\n",
      "142                                        Mexico     MX    MEX     484\n",
      "143               Micronesia, Federated States of     FM    FSM     583\n",
      "144                                       Moldova     MD    MDA     498\n",
      "145                                        Monaco     MC    MCO     492\n",
      "146                                      Mongolia     MN    MNG     496\n",
      "147                                    Montenegro     ME    MNE     499\n",
      "148                                    Montserrat     MS    MSR     500\n",
      "149                                       Morocco     MA    MAR     504\n",
      "150                                    Mozambique     MZ    MOZ     508\n",
      "151                                       Myanmar     MM    MMR     104\n",
      "152                                       Namibia    NaN    NAM     516\n",
      "153                                         Nauru     NR    NRU     520\n",
      "154                                         Nepal     NP    NPL     524\n",
      "155                                   Netherlands     NL    NLD     528\n",
      "156                          Netherlands Antilles     AN    ANT     530\n",
      "157                                 New Caledonia     NC    NCL     540\n",
      "158                                   New Zealand     NZ    NZL     554\n",
      "159                                     Nicaragua     NI    NIC     558\n",
      "160                                         Niger     NE    NER     562\n",
      "161                                       Nigeria     NG    NGA     566\n",
      "162                                          Niue     NU    NIU     570\n",
      "163                                Norfolk Island     NF    NFK     574\n",
      "164                      Northern Mariana Islands     MP    MNP     580\n",
      "165                                        Norway     NO    NOR     578\n",
      "166                                          Oman     OM    OMN     512\n",
      "167                                      Pakistan     PK    PAK     586\n",
      "168                                         Palau     PW    PLW     585\n",
      "169                         Palestinian Territory     PS    PSE     275\n",
      "170                                        Panama     PA    PAN     591\n",
      "171                              Papua New Guinea     PG    PNG     598\n",
      "172                                      Paraguay     PY    PRY     600\n",
      "173                                          Peru     PE    PER     604\n",
      "174                                   Philippines     PH    PHL     608\n",
      "175                                      Pitcairn     PN    PCN     612\n",
      "176                                        Poland     PL    POL     616\n",
      "177                                      Portugal     PT    PRT     620\n",
      "178                                   Puerto Rico     PR    PRI     630\n",
      "179                                         Qatar     QA    QAT     634\n",
      "180                                       Réunion     RE    REU     638\n",
      "181                                       Romania     RO    ROU     642\n",
      "182                            Russian Federation     RU    RUS     643\n",
      "183                                        Rwanda     RW    RWA     646\n",
      "184                              Saint-Barthélemy     BL    BLM     652\n",
      "185                                  Saint Helena     SH    SHN     654\n",
      "186                         Saint Kitts and Nevis     KN    KNA     659\n",
      "187                                   Saint Lucia     LC    LCA     662\n",
      "188                    Saint-Martin (French part)     MF    MAF     663\n",
      "189                     Saint Pierre and Miquelon     PM    SPM     666\n",
      "190                  Saint Vincent and Grenadines     VC    VCT     670\n",
      "191                                         Samoa     WS    WSM     882\n",
      "192                                    San Marino     SM    SMR     674\n",
      "193                         Sao Tome and Principe     ST    STP     678\n",
      "194                                  Saudi Arabia     SA    SAU     682\n",
      "195                                       Senegal     SN    SEN     686\n",
      "196                                        Serbia     RS    SRB     688\n",
      "197                                    Seychelles     SC    SYC     690\n",
      "198                                  Sierra Leone     SL    SLE     694\n",
      "199                                     Singapore     SG    SGP     702\n",
      "200                                      Slovakia     SK    SVK     703\n",
      "201                                      Slovenia     SI    SVN     705\n",
      "202                               Solomon Islands     SB    SLB     090\n",
      "203                                       Somalia     SO    SOM     706\n",
      "204                                  South Africa     ZA    ZAF     710\n",
      "205  South Georgia and the South Sandwich Islands     GS    SGS     239\n",
      "206                                   South Sudan     SS    SSD     728\n",
      "207                                         Spain     ES    ESP     724\n",
      "208                                     Sri Lanka     LK    LKA     144\n",
      "209                                         Sudan     SD    SDN     736\n",
      "210                                      Suriname     SR    SUR     740\n",
      "211                Svalbard and Jan Mayen Islands     SJ    SJM     744\n",
      "212                                     Swaziland     SZ    SWZ     748\n",
      "213                                        Sweden     SE    SWE     752\n",
      "214                                   Switzerland     CH    CHE     756\n",
      "215                  Syrian Arab Republic (Syria)     SY    SYR     760\n",
      "216                     Taiwan, Republic of China     TW    TWN     158\n",
      "217                                    Tajikistan     TJ    TJK     762\n",
      "218                  Tanzania, United Republic of     TZ    TZA     834\n",
      "219                                      Thailand     TH    THA     764\n",
      "220                                   Timor-Leste     TL    TLS     626\n",
      "221                                          Togo     TG    TGO     768\n",
      "222                                       Tokelau     TK    TKL     772\n",
      "223                                         Tonga     TO    TON     776\n",
      "224                           Trinidad and Tobago     TT    TTO     780\n",
      "225                                       Tunisia     TN    TUN     788\n",
      "226                                        Turkey     TR    TUR     792\n",
      "227                                  Turkmenistan     TM    TKM     795\n",
      "228                      Turks and Caicos Islands     TC    TCA     796\n",
      "229                                        Tuvalu     TV    TUV     798\n",
      "230                                        Uganda     UG    UGA     800\n",
      "231                                       Ukraine     UA    UKR     804\n",
      "232                          United Arab Emirates     AE    ARE     784\n",
      "233                                United Kingdom     GB    GBR     826\n",
      "234                      United States of America     US    USA     840\n",
      "235                     US Minor Outlying Islands     UM    UMI     581\n",
      "236                                       Uruguay     UY    URY     858\n",
      "237                                    Uzbekistan     UZ    UZB     860\n",
      "238                                       Vanuatu     VU    VUT     548\n",
      "239               Venezuela (Bolivarian Republic)     VE    VEN     862\n",
      "240                                      Viet Nam     VN    VNM     704\n",
      "241                            Virgin Islands, US     VI    VIR     850\n",
      "242                     Wallis and Futuna Islands     WF    WLF     876\n",
      "243                                Western Sahara     EH    ESH     732\n",
      "244                                         Yemen     YE    YEM     887\n",
      "245                                        Zambia     ZM    ZMB     894\n",
      "246                                      Zimbabwe     ZW    ZWE     716\n"
     ]
    }
   ],
   "source": [
    "with pd.option_context('display.max_rows', 999, 'display.max_columns', 10 ):\n",
    "    print(df)"
   ]
  },
  {
   "cell_type": "code",
   "execution_count": null,
   "metadata": {
    "collapsed": true
   },
   "outputs": [],
   "source": []
  }
 ],
 "metadata": {
  "kernelspec": {
   "display_name": "Python [Root]",
   "language": "python",
   "name": "Python [Root]"
  },
  "language_info": {
   "codemirror_mode": {
    "name": "ipython",
    "version": 3
   },
   "file_extension": ".py",
   "mimetype": "text/x-python",
   "name": "python",
   "nbconvert_exporter": "python",
   "pygments_lexer": "ipython3",
   "version": "3.5.2"
  }
 },
 "nbformat": 4,
 "nbformat_minor": 0
}
